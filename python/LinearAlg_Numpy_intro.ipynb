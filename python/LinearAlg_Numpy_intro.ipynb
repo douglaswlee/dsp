{
 "cells": [
  {
   "cell_type": "code",
   "execution_count": 1,
   "metadata": {},
   "outputs": [],
   "source": [
    "import numpy as np"
   ]
  },
  {
   "cell_type": "code",
   "execution_count": 4,
   "metadata": {},
   "outputs": [],
   "source": [
    "A = np.array([[1,2,3], [2,7,4]])\n",
    "B = np.array([[1,-1], [0,1]])\n",
    "C = np.array([[5,-1], [9,1], [6,0]])\n",
    "D = np.array([[3,-2,-1], [1,2,3]])\n",
    "\n",
    "u = np.array([6,2,-3,5])\n",
    "v = np.array([3,5,-1,4])"
   ]
  },
  {
   "cell_type": "code",
   "execution_count": 5,
   "metadata": {},
   "outputs": [],
   "source": [
    "dimensions = {\n",
    "    'A': A.shape,\n",
    "    'B': B.shape,\n",
    "    'C': C.shape,\n",
    "    'D': D.shape,\n",
    "    'u': u.shape,\n",
    "    'v': v.shape\n",
    "}"
   ]
  },
  {
   "cell_type": "code",
   "execution_count": 6,
   "metadata": {},
   "outputs": [
    {
     "data": {
      "text/plain": [
       "{'A': (2, 3), 'B': (2, 2), 'C': (3, 2), 'D': (2, 3), 'u': (4,), 'v': (4,)}"
      ]
     },
     "execution_count": 6,
     "metadata": {},
     "output_type": "execute_result"
    }
   ],
   "source": [
    "dimensions"
   ]
  },
  {
   "cell_type": "code",
   "execution_count": 8,
   "metadata": {},
   "outputs": [],
   "source": [
    "alpha = 6\n",
    "\n",
    "u_plus_v = np.add(u,v)\n",
    "u_minus_v = np.subtract(u,v)\n",
    "alpha_times_u = alpha * u\n",
    "u_dot_v = u.dot(v)\n",
    "norm_u = np.sqrt(u.dot(u))"
   ]
  },
  {
   "cell_type": "code",
   "execution_count": 11,
   "metadata": {},
   "outputs": [
    {
     "name": "stdout",
     "output_type": "stream",
     "text": [
      "[ 9  7 -4  9]\n",
      "[ 3 -3 -2  1]\n",
      "[ 36  12 -18  30]\n",
      "51\n",
      "8.602325267042627\n"
     ]
    }
   ],
   "source": [
    "print(u_plus_v)\n",
    "print(u_minus_v)\n",
    "print(alpha_times_u)\n",
    "print(u_dot_v)\n",
    "print(norm_u)"
   ]
  },
  {
   "cell_type": "code",
   "execution_count": 14,
   "metadata": {},
   "outputs": [],
   "source": [
    "A_plus_C = None # dimensions of A and C do not match\n",
    "A_minus_Ctranspose = np.subtract(A, C.T)\n",
    "Ctranspose_plus_3D = np.add(C.T, 3*D)\n",
    "B_times_A = B.dot(A)\n",
    "B_times_Atranspose = None # dimensions do not match for matrix mult"
   ]
  },
  {
   "cell_type": "code",
   "execution_count": 15,
   "metadata": {},
   "outputs": [
    {
     "name": "stdout",
     "output_type": "stream",
     "text": [
      "None\n",
      "[[-4 -7 -3]\n",
      " [ 3  6  4]]\n",
      "[[14  3  3]\n",
      " [ 2  7  9]]\n",
      "[[-1 -5 -1]\n",
      " [ 2  7  4]]\n",
      "None\n"
     ]
    }
   ],
   "source": [
    "print(A_plus_C)\n",
    "print(A_minus_Ctranspose)\n",
    "print(Ctranspose_plus_3D)\n",
    "print(B_times_A)\n",
    "print(B_times_Atranspose)"
   ]
  },
  {
   "cell_type": "code",
   "execution_count": 16,
   "metadata": {},
   "outputs": [],
   "source": [
    "B_times_C = None # dimensions do not match for matrix mult\n",
    "C_times_B = C.dot(B)\n",
    "B_exp_4 = np.dot(B.dot(B), B.dot(B))\n",
    "A_times_Atranspose = A.dot(A.T)\n",
    "Dtranspose_times_D = D.T.dot(D)"
   ]
  },
  {
   "cell_type": "code",
   "execution_count": 17,
   "metadata": {},
   "outputs": [
    {
     "name": "stdout",
     "output_type": "stream",
     "text": [
      "None\n",
      "[[ 5 -6]\n",
      " [ 9 -8]\n",
      " [ 6 -6]]\n",
      "[[ 1 -4]\n",
      " [ 0  1]]\n",
      "[[14 28]\n",
      " [28 69]]\n",
      "[[10 -4  0]\n",
      " [-4  8  8]\n",
      " [ 0  8 10]]\n"
     ]
    }
   ],
   "source": [
    "print(B_times_C)\n",
    "print(C_times_B)\n",
    "print(B_exp_4)\n",
    "print(A_times_Atranspose)\n",
    "print(Dtranspose_times_D)"
   ]
  },
  {
   "cell_type": "code",
   "execution_count": null,
   "metadata": {},
   "outputs": [],
   "source": []
  }
 ],
 "metadata": {
  "kernelspec": {
   "display_name": "Python 3",
   "language": "python",
   "name": "python3"
  },
  "language_info": {
   "codemirror_mode": {
    "name": "ipython",
    "version": 3
   },
   "file_extension": ".py",
   "mimetype": "text/x-python",
   "name": "python",
   "nbconvert_exporter": "python",
   "pygments_lexer": "ipython3",
   "version": "3.6.4"
  }
 },
 "nbformat": 4,
 "nbformat_minor": 2
}
